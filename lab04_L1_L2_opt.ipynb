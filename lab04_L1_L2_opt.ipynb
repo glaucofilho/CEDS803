{
 "cells": [
  {
   "attachments": {},
   "cell_type": "markdown",
   "metadata": {},
   "source": [
    "# Modelagens de regressão\n",
    "\n",
    "Este lab explorar modelagens diferentes para o problema de regressão.\n",
    "\n",
    "Para resolver diversos problemas, é interessante sempre utilizar um solver poderoso, de preferência que aceite restrições para que você não tenha que fazer o Lagrangiano manualmente. Além do trabalho, solvers que aceitam restrições realizam uma centenas ou milhares de heurísticas para simplificar as restrições e o problema, antes de iniciar a solução de fato.\n",
    "\n",
    "Por questões didáticas, a seguir usamos um solver simples disponível pela biblioteca `scipy`."
   ]
  },
  {
   "cell_type": "code",
   "execution_count": null,
   "metadata": {},
   "outputs": [],
   "source": [
    "import numpy as np\n",
    "import matplotlib.pyplot as plt\n",
    "import os\n",
    "from scipy.optimize import minimize"
   ]
  },
  {
   "attachments": {},
   "cell_type": "markdown",
   "metadata": {},
   "source": [
    "Abaixo segue a função a ser aprendida adicionada de um ruído com distribuição normal."
   ]
  },
  {
   "cell_type": "code",
   "execution_count": null,
   "metadata": {},
   "outputs": [],
   "source": [
    "f = lambda x: 2*x + 1\n",
    "\n",
    "# b = f(x) + ruído\n",
    "x = np.linspace(-2, 2, 20).flatten()\n",
    "b = f(x) + np.random.normal(0, 1, x.shape)"
   ]
  },
  {
   "attachments": {},
   "cell_type": "markdown",
   "metadata": {},
   "source": [
    "Como o ruído é normal e pequeno, uma regressão através da norma euclidiana funciona bem."
   ]
  },
  {
   "attachments": {},
   "cell_type": "markdown",
   "metadata": {},
   "source": [
    "## Regressão L2"
   ]
  },
  {
   "cell_type": "code",
   "execution_count": null,
   "metadata": {},
   "outputs": [],
   "source": [
    "# matriz com as observações\n",
    "A = np.vstack([np.ones_like(x), x]).T\n",
    "A.shape"
   ]
  },
  {
   "attachments": {},
   "cell_type": "markdown",
   "metadata": {},
   "source": [
    "Construa sua função de custo para minimizar o erro via normal L2, i.e., a raíz da soma dos quadrados dos erros."
   ]
  },
  {
   "cell_type": "code",
   "execution_count": null,
   "metadata": {},
   "outputs": [],
   "source": [
    "# Retorna um vetor com os erros dado os parâmetros 'coefs'\n",
    "def error_vector(coefs):\n",
    "    return ...\n",
    "\n",
    "# Retorna a norma L2 de v\n",
    "def L2_norm(v):\n",
    "    return ...\n",
    "\n",
    "# F.O.: Raíz quadrada da soma dos quadrados dos erros\n",
    "def L2_cost(v):\n",
    "    return L2_norm(error_vector(v))"
   ]
  },
  {
   "cell_type": "code",
   "execution_count": null,
   "metadata": {},
   "outputs": [],
   "source": [
    "# Realiza a minimização da função de custo. L2_cost\n",
    "res = minimize(L2_cost, np.array([0, 0]))\n",
    "L2_cost_ret = res.x"
   ]
  },
  {
   "cell_type": "code",
   "execution_count": null,
   "metadata": {},
   "outputs": [],
   "source": [
    "plt.plot(x, b, 'o', label='Dados')\n",
    "plt.plot(x, L2_cost_ret[0] + L2_cost_ret[1]*x, '--', label='L2 - sem outlier')\n",
    "\n",
    "plt.legend()\n",
    "plt.show()"
   ]
  },
  {
   "attachments": {},
   "cell_type": "markdown",
   "metadata": {},
   "source": [
    "Agora vamos adicionar um outlier e ver se a regressão ainda continua a funcionar"
   ]
  },
  {
   "cell_type": "code",
   "execution_count": null,
   "metadata": {},
   "outputs": [],
   "source": [
    "# adicionando outlier\n",
    "b[-1] = -100\n",
    "\n",
    "# Regressão L2 após outlier\n",
    "res = minimize(L2_cost, np.array([0, 0]))\n",
    "L2_cost_outlier_ret = res.x"
   ]
  },
  {
   "cell_type": "code",
   "execution_count": null,
   "metadata": {},
   "outputs": [],
   "source": [
    "plt.plot(x, b, 'o', label='Dados')\n",
    "plt.plot(x[-1], b[-1], 'o', label='Outlier')\n",
    "\n",
    "plt.plot(x, L2_cost_ret[0] + L2_cost_ret[1]*x, '--', label='L2 - sem outlier')\n",
    "plt.plot(x, L2_cost_outlier_ret[0] + L2_cost_outlier_ret[1]*x, '--', label='L2')\n",
    "\n",
    "plt.legend()\n",
    "plt.show()"
   ]
  },
  {
   "attachments": {},
   "cell_type": "markdown",
   "metadata": {},
   "source": [
    "Vimos que o método de regularização L1 tem como objetivo promover esparsidade.\n",
    "\n",
    "**Atenção**: Um detalhe não apresentado em aula é que tipicamente deixamos de fora da regularização L1 o escalar responsável pela translação (intercept), i.e., penalizamos apenas as escolhas das variáveis e não a translação necessária.\n",
    "\n",
    "Em nosso caso, o escalar é a primeira variável da matriz $A$, assim, a retiramos da regularização."
   ]
  },
  {
   "cell_type": "code",
   "execution_count": null,
   "metadata": {},
   "outputs": [],
   "source": [
    "# Retorna a norma L1 do vetor v\n",
    "def L1_norm(v):\n",
    "    return ...\n",
    "\n",
    "# F.O.: L2 no erro e regularização L1 nos coeficientes, excluindo o intercept\n",
    "def L2_regL1_cost(v, λ=5):\n",
    "    return L2_norm(error_vector(v)) + λ*L1_norm(v[1:])\n",
    "\n",
    "# L2 no erro e regularização L1\n",
    "res = minimize(L2_regL1_cost, np.array([0, 0]))\n",
    "L2_regL1_ret = res.x"
   ]
  },
  {
   "cell_type": "code",
   "execution_count": null,
   "metadata": {},
   "outputs": [],
   "source": [
    "plt.plot(x, b, 'o', label='Dados')\n",
    "plt.plot(x[-1], b[-1], 'o', label='Outlier')\n",
    "\n",
    "plt.plot(x, L2_cost_ret[0] + L2_cost_ret[1]*x, '--', label='L2 - sem outlier')\n",
    "plt.plot(x, L2_cost_outlier_ret[0] + L2_cost_outlier_ret[1]*x, '--', label='L2')\n",
    "plt.plot(x, L2_regL1_ret[0] + L2_regL1_ret[1]*x, '--', label='L2 Reg L1 com λ=5')\n",
    "\n",
    "plt.legend()\n",
    "plt.show()"
   ]
  },
  {
   "cell_type": "code",
   "execution_count": null,
   "metadata": {},
   "outputs": [],
   "source": [
    "# F.O.: L1 no erro\n",
    "def L1_cost(v):\n",
    "    return L1_norm(error_vector(v))\n",
    "\n",
    "# L1 no erro\n",
    "res = minimize(L1_cost, np.array([0, 0]))\n",
    "L1_ret = res.x"
   ]
  },
  {
   "cell_type": "code",
   "execution_count": null,
   "metadata": {},
   "outputs": [],
   "source": [
    "# Para ver melhor os resultados, não mostrado o outlier presente nos dados\n",
    "plt.plot(x[:-1], b[:-1], 'o', label='Dados')\n",
    "#plt.plot(x[-1], b[-1], 'o', label='Outlier')\n",
    "\n",
    "plt.plot(x, L2_cost_ret[0] + L2_cost_ret[1]*x, '--', label='L2 - sem outlier')\n",
    "plt.plot(x, L2_cost_outlier_ret[0] + L2_cost_outlier_ret[1]*x, '--', label='L2')\n",
    "plt.plot(x, L2_regL1_ret[0] + L2_regL1_ret[1]*x, '--', label='L2 Reg L1 com λ=5')\n",
    "plt.plot(x, L1_ret[0] + L1_ret[1]*x, '--', label='L1')\n",
    "\n",
    "plt.legend()\n",
    "plt.show()"
   ]
  },
  {
   "cell_type": "code",
   "execution_count": null,
   "metadata": {},
   "outputs": [],
   "source": []
  }
 ],
 "metadata": {
  "kernelspec": {
   "display_name": "py3_11",
   "language": "python",
   "name": "python3"
  },
  "language_info": {
   "codemirror_mode": {
    "name": "ipython",
    "version": 3
   },
   "file_extension": ".py",
   "mimetype": "text/x-python",
   "name": "python",
   "nbconvert_exporter": "python",
   "pygments_lexer": "ipython3",
   "version": "3.11.4"
  }
 },
 "nbformat": 4,
 "nbformat_minor": 2
}
