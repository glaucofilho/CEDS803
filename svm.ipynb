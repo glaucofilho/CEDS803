{
 "cells": [
  {
   "attachments": {},
   "cell_type": "markdown",
   "metadata": {},
   "source": [
    "# SVM\n",
    "\n",
    "Neste lab iremos implementar uma versão do SVM com solução via pseudoinversa."
   ]
  },
  {
   "cell_type": "code",
   "execution_count": null,
   "metadata": {},
   "outputs": [],
   "source": [
    "import numpy as np\n",
    "import pandas as pd\n",
    "import matplotlib.pyplot as plt\n",
    "\n",
    "# magic para definer resolução como retina\n",
    "%config InlineBackend.figure_format = 'retina'"
   ]
  },
  {
   "attachments": {},
   "cell_type": "markdown",
   "metadata": {},
   "source": [
    "## Exemplo da aula\n",
    "\n",
    "Primeiro iremos reproduzir o exemplo da aula, com o seguinte dataset\n",
    "\n",
    "|$x_1$|$x_2$|$y$|\n",
    "| --- | --- | --- |\n",
    "|3|3|$\\circ$|\n",
    "|2|3|$\\circ$|\n",
    "|2|1|$\\square$|\n",
    "|1|1|$\\square$|\n",
    "\n",
    "e seguindo a convenção $\\circ = 1$ e $\\square = -1$."
   ]
  },
  {
   "cell_type": "code",
   "execution_count": null,
   "metadata": {},
   "outputs": [],
   "source": [
    "# Vetores coluna\n",
    "v1 = np.array([[3,3]]).T\n",
    "v2 = np.array([[2,3]]).T\n",
    "v3 = np.array([[2,1]]).T\n",
    "v4 = np.array([[1,1]]).T\n",
    "n = 4\n",
    "\n",
    "rhs = np.array([[1,1,-1,-1]]).T"
   ]
  },
  {
   "cell_type": "code",
   "execution_count": null,
   "metadata": {},
   "outputs": [],
   "source": [
    "# Para facilitar, iremos agrupar todos os vetores em uma matriz\n",
    "M = np.hstack((...))\n",
    "\n",
    "# adição do offset\n",
    "M = np.vstack( (M, np.ones((1,n))) )\n",
    "M"
   ]
  },
  {
   "cell_type": "code",
   "execution_count": null,
   "metadata": {},
   "outputs": [],
   "source": [
    "# Agora, calculamos todos os produtos internos\n",
    "P = ... @ ...\n",
    "P"
   ]
  },
  {
   "attachments": {},
   "cell_type": "markdown",
   "metadata": {},
   "source": [
    "Calculados dos produtos internos $P$, podemos resolver o sistema para encontrar a normal $w$\n",
    "\n",
    "$$P x = rhs$$"
   ]
  },
  {
   "cell_type": "code",
   "execution_count": null,
   "metadata": {},
   "outputs": [],
   "source": [
    "# encontra a combinação que define w\n",
    "x = np.round(... @ ..., 2)\n",
    "x"
   ]
  },
  {
   "cell_type": "code",
   "execution_count": null,
   "metadata": {},
   "outputs": [],
   "source": [
    "# calcular w\n",
    "w = M @ x\n",
    "w"
   ]
  },
  {
   "cell_type": "code",
   "execution_count": null,
   "metadata": {},
   "outputs": [],
   "source": [
    "# função de predição\n",
    "predicao = lambda x : w.T @ x"
   ]
  },
  {
   "cell_type": "code",
   "execution_count": null,
   "metadata": {},
   "outputs": [],
   "source": [
    "# testando a predição\n",
    "predicao( M ).flatten(), rhs.flatten()"
   ]
  },
  {
   "attachments": {},
   "cell_type": "markdown",
   "metadata": {},
   "source": [
    "## Heart Disease\n",
    "\n",
    "Base de dados sobre doenças cardíacas da UCI Irvine Machine Learning Repository. No [site](https://archive.ics.uci.edu/dataset/45/heart+disease) é possível ver a descrição da base, comentários e o desempenho dos modelos.\n",
    "\n",
    "O objetivo é prever a última coluna \"present\" que indica se possui a doença."
   ]
  },
  {
   "cell_type": "code",
   "execution_count": null,
   "metadata": {},
   "outputs": [],
   "source": [
    "db = pd.read_csv(\"heart.csv\")\n",
    "db.present = db.present.replace(0,-1)\n",
    "\n",
    "# 80% dos dados serão utilizados para treino\n",
    "n_training = int(db.shape[0] * 0.8)\n",
    "\n",
    "# o ideal é amostrar os dados e não pegar os primeiros 80% como abaixo\n",
    "training = db.loc[:n_training]\n",
    "test = db.loc[n_training:]"
   ]
  },
  {
   "cell_type": "code",
   "execution_count": null,
   "metadata": {},
   "outputs": [],
   "source": [
    "# colunas com as features e a classe\n",
    "db.columns.values"
   ]
  },
  {
   "cell_type": "code",
   "execution_count": null,
   "metadata": {},
   "outputs": [],
   "source": [
    "# plota chol contra age, com cores em present para verificar a separabilidade\n",
    "db.plot.scatter(x=\"chol\", y=\"age\", c=\"present\", colormap=\"winter\", alpha=0.5)"
   ]
  },
  {
   "cell_type": "code",
   "execution_count": null,
   "metadata": {},
   "outputs": [],
   "source": [
    "def ret_desvios(dataset):\n",
    "  # dataframe com apenas as features 1:-1\n",
    "  F = dataset.iloc[:, 1:-1]\n",
    "  rhs = dataset.present\n",
    "\n",
    "  # É importante normalizar os dados antes de aplicar SVM, para deixarmos todos os dados na mesma escala\n",
    "  D = F - F.mean()\n",
    "  M = D / D.std()\n",
    "  return M\n",
    "\n",
    "M = ret_desvios( training )\n",
    "M.head(3)"
   ]
  },
  {
   "cell_type": "code",
   "execution_count": null,
   "metadata": {},
   "outputs": [],
   "source": [
    "# Calculamos todos os produtos internos\n",
    "P = ... @ ...\n",
    "# encontra a combinação que define w\n",
    "x = np.linalg.pinv(P) @ training.present\n",
    "# calcula w\n",
    "w = M.T @ x\n",
    "w"
   ]
  },
  {
   "cell_type": "code",
   "execution_count": null,
   "metadata": {},
   "outputs": [],
   "source": [
    "# função de predição\n",
    "predicao = lambda x : (w.T @ x) >= 0\n",
    "\n",
    "# funções de avaliação\n",
    "acuracia = lambda predicao, rhs : np.sum(predicao == rhs) / len(rhs)\n",
    "precisao = lambda predicao, rhs : np.sum(predicao[rhs == 1] == rhs[rhs == 1]) / np.sum(predicao == 1)"
   ]
  },
  {
   "attachments": {},
   "cell_type": "markdown",
   "metadata": {},
   "source": [
    "Agora iremos realizar a predição para o conjunto de treino e depois para o conjunto de teste"
   ]
  },
  {
   "cell_type": "code",
   "execution_count": null,
   "metadata": {},
   "outputs": [],
   "source": [
    "# aplicar predicao\n",
    "pred = predicao(M.T).astype(int) * 2 - 1\n",
    "\n",
    "# erros\n",
    "acuracia(pred, training.present), precisao(pred, training.present)"
   ]
  },
  {
   "cell_type": "code",
   "execution_count": null,
   "metadata": {},
   "outputs": [],
   "source": [
    "# verificar dados de teste\n",
    "M_t = ret_desvios( test )\n",
    "pred = predicao(M_t.T).astype(int) * 2 - 1\n",
    "\n",
    "# erros\n",
    "acuracia(pred, test.present), precisao(pred, test.present)"
   ]
  },
  {
   "attachments": {},
   "cell_type": "markdown",
   "metadata": {},
   "source": [
    "## Utilizando SVC\n",
    "\n",
    "Podemos utilizar a implementação do support vector classifier do sklearn, que facilita todo este processo"
   ]
  },
  {
   "cell_type": "code",
   "execution_count": null,
   "metadata": {},
   "outputs": [],
   "source": [
    "from sklearn.svm import SVC"
   ]
  },
  {
   "cell_type": "code",
   "execution_count": null,
   "metadata": {},
   "outputs": [],
   "source": [
    "# modelo com kernel linear\n",
    "model = SVC(kernel=\"linear\")\n",
    "model.fit(M, training.present)\n",
    "\n",
    "# predição\n",
    "pred = model.predict(M)\n",
    "\n",
    "# erros\n",
    "acuracia(pred, training.present), precisao(pred, training.present)"
   ]
  },
  {
   "cell_type": "code",
   "execution_count": null,
   "metadata": {},
   "outputs": [],
   "source": [
    "# validação\n",
    "pred = model.predict(M_t)\n",
    "\n",
    "# erros\n",
    "acuracia(pred, test.present), precisao(pred, test.present)"
   ]
  },
  {
   "attachments": {},
   "cell_type": "markdown",
   "metadata": {},
   "source": [
    "## Com Kernel polinomial"
   ]
  },
  {
   "cell_type": "code",
   "execution_count": null,
   "metadata": {},
   "outputs": [],
   "source": [
    "# modelo com kernel linear\n",
    "model = SVC(kernel=\"poly\", degree=2)\n",
    "model.fit(M, training.present)\n",
    "\n",
    "# predição\n",
    "pred = model.predict(M)\n",
    "\n",
    "# erros\n",
    "acuracia(pred, training.present), precisao(pred, training.present)"
   ]
  },
  {
   "cell_type": "code",
   "execution_count": null,
   "metadata": {},
   "outputs": [],
   "source": [
    "# validação\n",
    "pred = model.predict(M_t)\n",
    "\n",
    "# erros\n",
    "acuracia(pred, test.present), precisao(pred, test.present)"
   ]
  },
  {
   "attachments": {},
   "cell_type": "markdown",
   "metadata": {},
   "source": [
    "## Com Kernel RBF"
   ]
  },
  {
   "cell_type": "code",
   "execution_count": null,
   "metadata": {},
   "outputs": [],
   "source": [
    "# modelo com kernel linear\n",
    "model = SVC(kernel=\"rbf\")\n",
    "model.fit(M, training.present)\n",
    "\n",
    "# predição\n",
    "pred = model.predict(M)\n",
    "\n",
    "# erros\n",
    "acuracia(pred, training.present), precisao(pred, training.present)"
   ]
  },
  {
   "cell_type": "code",
   "execution_count": null,
   "metadata": {},
   "outputs": [],
   "source": [
    "# validação\n",
    "pred = model.predict(M_t)\n",
    "\n",
    "# erros\n",
    "acuracia(pred, test.present), precisao(pred, test.present)"
   ]
  },
  {
   "attachments": {},
   "cell_type": "markdown",
   "metadata": {},
   "source": [
    "## Com Kernel RBF e ajuste de soft margin"
   ]
  },
  {
   "cell_type": "code",
   "execution_count": null,
   "metadata": {},
   "outputs": [],
   "source": [
    "# modelo com kernel linear\n",
    "model = SVC(kernel=\"rbf\", C=10) # verifique a doc para ajustar C\n",
    "model.fit(M, training.present)\n",
    "\n",
    "# predição\n",
    "pred = model.predict(M)\n",
    "\n",
    "# erros\n",
    "acuracia(pred, training.present), precisao(pred, training.present)"
   ]
  },
  {
   "cell_type": "code",
   "execution_count": null,
   "metadata": {},
   "outputs": [],
   "source": [
    "# validação\n",
    "pred = model.predict(M_t)\n",
    "\n",
    "# erros\n",
    "acuracia(pred, test.present), precisao(pred, test.present)"
   ]
  },
  {
   "cell_type": "code",
   "execution_count": null,
   "metadata": {},
   "outputs": [],
   "source": []
  }
 ],
 "metadata": {
  "kernelspec": {
   "display_name": "py3_11",
   "language": "python",
   "name": "python3"
  },
  "language_info": {
   "codemirror_mode": {
    "name": "ipython",
    "version": 3
   },
   "file_extension": ".py",
   "mimetype": "text/x-python",
   "name": "python",
   "nbconvert_exporter": "python",
   "pygments_lexer": "ipython3",
   "version": "3.11.3"
  }
 },
 "nbformat": 4,
 "nbformat_minor": 2
}
