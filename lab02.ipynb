{
 "cells": [
  {
   "attachments": {},
   "cell_type": "markdown",
   "metadata": {},
   "source": [
    "# "
   ]
  },
  {
   "attachments": {},
   "cell_type": "markdown",
   "metadata": {},
   "source": [
    "# Exercícios de matrizes\n",
    "\n",
    "Atenção: Para quem tiver o Copilot ativo, o desligue antes de realizar o exercício."
   ]
  },
  {
   "cell_type": "code",
   "execution_count": 2,
   "metadata": {},
   "outputs": [],
   "source": [
    "import numpy as np"
   ]
  },
  {
   "attachments": {},
   "cell_type": "markdown",
   "metadata": {},
   "source": [
    "## Exercício\n",
    "\n",
    "Construa:\n",
    "\n",
    "1. Uma matriz 2x3 da seguinte forma\n",
    "$$A = \\begin{bmatrix}\n",
    "0 & 1 & 0\\\\ \n",
    "0 & 0 & 1\\\\\n",
    "0 & 0 & 0\n",
    "\\end{bmatrix}$$\n",
    "2. Uma matriz linha\n",
    "$$\\mathbf{x} = \\begin{bmatrix}\n",
    "1 & 0 & 0\n",
    "\\end{bmatrix}$$"
   ]
  },
  {
   "cell_type": "code",
   "execution_count": 16,
   "metadata": {},
   "outputs": [
    {
     "data": {
      "text/plain": [
       "(array([[0, 1, 0],\n",
       "        [0, 0, 1],\n",
       "        [0, 0, 0]]),\n",
       " array([1, 0, 0]))"
      ]
     },
     "execution_count": 16,
     "metadata": {},
     "output_type": "execute_result"
    }
   ],
   "source": [
    "A = np.array([[0,1,0],[0,0,1],[0,0,0]])\n",
    "\n",
    "x = np.array([1,0,0])\n",
    "\n",
    "A, x"
   ]
  },
  {
   "attachments": {},
   "cell_type": "markdown",
   "metadata": {},
   "source": [
    "Agora realize as seguintes operações:\n",
    "\n",
    "- $\\mathbf{x} A$\n",
    "- $\\mathbf{x} A^2$\n",
    "- $\\mathbf{x} A^3$\n",
    "- $A^3$\n",
    "\n",
    "Para o último cálculo, pode-se utilizar a função `np.linalg.matrix_power()`"
   ]
  },
  {
   "cell_type": "code",
   "execution_count": 23,
   "metadata": {},
   "outputs": [
    {
     "data": {
      "text/plain": [
       "(array([0, 1, 0]),\n",
       " array([0, 0, 1]),\n",
       " array([0, 0, 0]),\n",
       " array([[0, 0, 0],\n",
       "        [0, 0, 0],\n",
       "        [0, 0, 0]]))"
      ]
     },
     "execution_count": 23,
     "metadata": {},
     "output_type": "execute_result"
    }
   ],
   "source": [
    "(\n",
    "    x@A,\n",
    "    x@(A@A),\n",
    "    x@(A@A@A),\n",
    "    (A@A@A)\n",
    ")"
   ]
  },
  {
   "cell_type": "code",
   "execution_count": 24,
   "metadata": {},
   "outputs": [
    {
     "data": {
      "text/plain": [
       "array([[0, 0, 0],\n",
       "       [0, 0, 0],\n",
       "       [0, 0, 0]])"
      ]
     },
     "execution_count": 24,
     "metadata": {},
     "output_type": "execute_result"
    }
   ],
   "source": [
    "np.linalg.matrix_power(A,3)"
   ]
  },
  {
   "attachments": {},
   "cell_type": "markdown",
   "metadata": {},
   "source": [
    "Opcional: Tente interpretar a operação realizada via grafos para compreender o que está ocorrendo"
   ]
  },
  {
   "cell_type": "code",
   "execution_count": 44,
   "metadata": {},
   "outputs": [
    {
     "name": "stdout",
     "output_type": "stream",
     "text": [
      "Matriz de adjacência:\n",
      " [[0 1 0]\n",
      " [0 0 1]\n",
      " [0 0 0]]\n"
     ]
    },
    {
     "data": {
      "image/png": "[encoded data removed]",
      "text/plain": [
       "<Figure size 640x480 with 1 Axes>"
      ]
     },
     "metadata": {},
     "output_type": "display_data"
    }
   ],
   "source": [
    "import networkx as nx\n",
    "import matplotlib.pyplot as plt\n",
    "\n",
    "mapping = {0: 1, 1: 2, 2: 3}\n",
    "\n",
    "grafo = nx.from_numpy_array(A, create_using=nx.DiGraph)\n",
    "grafo = nx.relabel_nodes(grafo, mapping)\n",
    "nx.draw(grafo, with_labels=mapping)\n",
    "print(\"Matriz de adjacência:\\n\",A)\n",
    "plt.show()\n",
    "\n"
   ]
  },
  {
   "attachments": {},
   "cell_type": "markdown",
   "metadata": {},
   "source": [
    "A matriz de adjacência nos mostra quantos caminhos de comprimento 1 existem entre os nós do grafo, no caso temos 2."
   ]
  },
  {
   "cell_type": "code",
   "execution_count": 45,
   "metadata": {},
   "outputs": [
    {
     "name": "stdout",
     "output_type": "stream",
     "text": [
      "Matriz de adjacência ao quadrado:\n",
      " [[0 0 1]\n",
      " [0 0 0]\n",
      " [0 0 0]]\n"
     ]
    },
    {
     "data": {
      "image/png": "[encoded data removed]",
      "text/plain": [
       "<Figure size 640x480 with 1 Axes>"
      ]
     },
     "metadata": {},
     "output_type": "display_data"
    }
   ],
   "source": [
    "grafo = nx.from_numpy_array(np.linalg.matrix_power(A,2), create_using=nx.DiGraph)\n",
    "grafo = nx.relabel_nodes(grafo, mapping)\n",
    "nx.draw(grafo, with_labels=mapping)\n",
    "print(\"Matriz de adjacência ao quadrado:\\n\",np.linalg.matrix_power(A,2))\n",
    "plt.show()\n"
   ]
  },
  {
   "attachments": {},
   "cell_type": "markdown",
   "metadata": {},
   "source": [
    "A matriz de adjacência ao quadrado nos mostra quantos caminhos de comprimento 2 existem entre os nós do grafo, no caso temos 1, conforme esperado (1 pra 2 + 2 pra 3 = 1 pra 3)"
   ]
  },
  {
   "cell_type": "code",
   "execution_count": 46,
   "metadata": {},
   "outputs": [
    {
     "name": "stdout",
     "output_type": "stream",
     "text": [
      "Matriz de adjacência ao cubo:\n",
      " [[0 0 0]\n",
      " [0 0 0]\n",
      " [0 0 0]]\n"
     ]
    },
    {
     "data": {
      "image/png": "[encoded data removed]",
      "text/plain": [
       "<Figure size 640x480 with 1 Axes>"
      ]
     },
     "metadata": {},
     "output_type": "display_data"
    }
   ],
   "source": [
    "grafo = nx.from_numpy_array(np.linalg.matrix_power(A,3), create_using=nx.DiGraph)\n",
    "grafo = nx.relabel_nodes(grafo, mapping)\n",
    "nx.draw(grafo, with_labels=mapping)\n",
    "print(\"Matriz de adjacência ao cubo:\\n\",np.linalg.matrix_power(A,3))\n",
    "plt.show()"
   ]
  },
  {
   "attachments": {},
   "cell_type": "markdown",
   "metadata": {},
   "source": [
    "A matriz de adjacência ao cubo nos mostra quantos caminhos de comprimento 3 existem entre os nós do grafo, no caso não temos caminhos de comprimento 3."
   ]
  },
  {
   "attachments": {},
   "cell_type": "markdown",
   "metadata": {},
   "source": [
    "## Exercício\n",
    "\n",
    "Considere\n",
    "$$A = \\begin{bmatrix}\n",
    "0 & 1 & 0\\\\ \n",
    "0 & 0 & 1\\\\\n",
    "0 & 0 & 0\n",
    "\\end{bmatrix}$$\n",
    "\n",
    "A matriz $A$ possui inversa?"
   ]
  },
  {
   "cell_type": "code",
   "execution_count": null,
   "metadata": {},
   "outputs": [],
   "source": [
    "np.linalg.inv(...)"
   ]
  },
  {
   "attachments": {},
   "cell_type": "markdown",
   "metadata": {},
   "source": [
    "Agora, construa uma matriz $L$ para realizar $L A$ de tal forma que:\n",
    "\n",
    "1. Mude a linha 1 para a linha 2\n",
    "2. Mude a linha 2 para a linha 3\n",
    "3. Faça a linha 1 ser a combinação linear das linhas 1 e 2"
   ]
  },
  {
   "cell_type": "code",
   "execution_count": null,
   "metadata": {},
   "outputs": [],
   "source": [
    "L = np.array(...)\n",
    "L @ A"
   ]
  },
  {
   "attachments": {},
   "cell_type": "markdown",
   "metadata": {},
   "source": [
    "Responda, a matriz $L A$ possui inversa?"
   ]
  },
  {
   "cell_type": "code",
   "execution_count": null,
   "metadata": {},
   "outputs": [],
   "source": [
    "np.linalg.inv(...)"
   ]
  },
  {
   "attachments": {},
   "cell_type": "markdown",
   "metadata": {},
   "source": [
    "Agora construa uma matriz $R$ para realizar $L A R$ de forma que:\n",
    "\n",
    "1. A primeira coluna seja igual a do meio\n",
    "2. A segunda coluna seja igual a terceira\n",
    "3. A terceira coluna seja a a última menos a segunda"
   ]
  },
  {
   "cell_type": "code",
   "execution_count": null,
   "metadata": {},
   "outputs": [],
   "source": [
    "R = np.array(...)"
   ]
  },
  {
   "cell_type": "code",
   "execution_count": null,
   "metadata": {},
   "outputs": [],
   "source": [
    "L @ A, L @ A @ R"
   ]
  },
  {
   "attachments": {},
   "cell_type": "markdown",
   "metadata": {},
   "source": [
    "Responda, a matriz $L A R$ possui inversa?"
   ]
  },
  {
   "cell_type": "code",
   "execution_count": null,
   "metadata": {},
   "outputs": [],
   "source": [
    "np.linalg.inv(...)"
   ]
  },
  {
   "attachments": {},
   "cell_type": "markdown",
   "metadata": {},
   "source": [
    "## Exercício"
   ]
  },
  {
   "attachments": {},
   "cell_type": "markdown",
   "metadata": {},
   "source": [
    "Dada a matriz ortogonal (e também diagonal) abaixo\n",
    "\n",
    "$$A = \\begin{bmatrix}\n",
    "3 & 0 & 0\\\\ \n",
    "0 & 4 & 0\\\\\n",
    "0 & 0 & 2\n",
    "\\end{bmatrix}$$\n",
    "\n",
    "Tente encontrar (diretamente) uma matriz $M$, tal que $M A = I$\n",
    "\n",
    "$$\\begin{bmatrix}\n",
    "? & ? & ?\\\\ \n",
    "? & ? & ?\\\\\n",
    "? & ? & ?\n",
    "\\end{bmatrix} \\begin{bmatrix}\n",
    "3 & 0 & 0\\\\ \n",
    "0 & 4 & 0\\\\\n",
    "0 & 0 & 2\n",
    "\\end{bmatrix} = \\begin{bmatrix}\n",
    "1 & 0 & 0\\\\ \n",
    "0 & 1 & 0\\\\\n",
    "0 & 0 & 1\n",
    "\\end{bmatrix}$$"
   ]
  },
  {
   "cell_type": "code",
   "execution_count": null,
   "metadata": {},
   "outputs": [],
   "source": [
    "A = np.array([[3, 0, 0],\n",
    "              [0, 4, 0],\n",
    "              [0, 0, 2]])"
   ]
  },
  {
   "cell_type": "code",
   "execution_count": null,
   "metadata": {},
   "outputs": [],
   "source": [
    "M = np.array(...)\n",
    "M @ A"
   ]
  },
  {
   "attachments": {},
   "cell_type": "markdown",
   "metadata": {},
   "source": [
    "Agora faça $A M$"
   ]
  },
  {
   "cell_type": "code",
   "execution_count": null,
   "metadata": {},
   "outputs": [],
   "source": [
    "A @ M"
   ]
  },
  {
   "attachments": {},
   "cell_type": "markdown",
   "metadata": {},
   "source": [
    "## Exercício\n",
    "\n",
    "Dado a matriz ortogonal abaixo"
   ]
  },
  {
   "cell_type": "code",
   "execution_count": null,
   "metadata": {},
   "outputs": [],
   "source": [
    "A = np.array([[.5**.5, -.5**.5, 0],\n",
    "              [.5**.5, .5**.5, 0],\n",
    "              [0, 0, 1]])\n",
    "A"
   ]
  },
  {
   "attachments": {},
   "cell_type": "markdown",
   "metadata": {},
   "source": [
    "O produto interno da primeira coluna com a segunda coluna é 0"
   ]
  },
  {
   "cell_type": "code",
   "execution_count": null,
   "metadata": {},
   "outputs": [],
   "source": [
    "A[:,0] @ A[:,1]"
   ]
  },
  {
   "attachments": {},
   "cell_type": "markdown",
   "metadata": {},
   "source": [
    "Verifique agora o produto interno entre todas as colunas"
   ]
  },
  {
   "cell_type": "code",
   "execution_count": null,
   "metadata": {},
   "outputs": [],
   "source": [
    "..., ..., ..."
   ]
  },
  {
   "attachments": {},
   "cell_type": "markdown",
   "metadata": {},
   "source": [
    "Agora verifique o produto interno das colunas consigo mesmo, i.e., primeira com a primeira, ...\n",
    "\n",
    "Observação: a seguir, despreze os pequenos erros de representação."
   ]
  },
  {
   "cell_type": "code",
   "execution_count": null,
   "metadata": {},
   "outputs": [],
   "source": [
    "..., ..., ..."
   ]
  },
  {
   "attachments": {},
   "cell_type": "markdown",
   "metadata": {},
   "source": [
    "Agora, crie uma matriz $B$ onde as linhas de $A$ são as colunas de $B$"
   ]
  },
  {
   "cell_type": "code",
   "execution_count": null,
   "metadata": {},
   "outputs": [],
   "source": [
    "B = ..."
   ]
  },
  {
   "attachments": {},
   "cell_type": "markdown",
   "metadata": {},
   "source": [
    "Agora faça os produtos internos:\n",
    "\n",
    "- primeira coluna de $A$ com a primeira linha de $B$\n",
    "- segunda coluna de $A$ com a segunda linha de $B$\n",
    "- terceira coluna de $A$ com a terceira linha de $B$"
   ]
  },
  {
   "cell_type": "code",
   "execution_count": null,
   "metadata": {},
   "outputs": [],
   "source": [
    "..., ..., ..."
   ]
  },
  {
   "attachments": {},
   "cell_type": "markdown",
   "metadata": {},
   "source": [
    "Agora interprete o resultado da multiplicação $B A$ como produto internos das linhas de $B$ com colunas de $A$"
   ]
  },
  {
   "cell_type": "code",
   "execution_count": null,
   "metadata": {},
   "outputs": [],
   "source": [
    "np.around(B @ A, decimals=3)"
   ]
  },
  {
   "attachments": {},
   "cell_type": "markdown",
   "metadata": {},
   "source": []
  },
  {
   "attachments": {},
   "cell_type": "markdown",
   "metadata": {},
   "source": []
  }
 ],
 "metadata": {
  "kernelspec": {
   "display_name": "py3_11",
   "language": "python",
   "name": "python3"
  },
  "language_info": {
   "codemirror_mode": {
    "name": "ipython",
    "version": 3
   },
   "file_extension": ".py",
   "mimetype": "text/x-python",
   "name": "python",
   "nbconvert_exporter": "python",
   "pygments_lexer": "ipython3",
   "version": "3.11.2"
  }
 },
 "nbformat": 4,
 "nbformat_minor": 2
}
