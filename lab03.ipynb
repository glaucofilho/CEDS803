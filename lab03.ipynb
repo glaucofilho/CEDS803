{
 "cells": [
  {
   "cell_type": "code",
   "execution_count": 1,
   "id": "8eaf5f52",
   "metadata": {},
   "outputs": [],
   "source": [
    "import numpy as np\n",
    "import pandas as pd"
   ]
  },
  {
   "attachments": {},
   "cell_type": "markdown",
   "id": "ab0086e1-ba50-467d-a76f-d3c43e8fedd9",
   "metadata": {},
   "source": [
    "# Descobrindo as fórmulas da física"
   ]
  },
  {
   "attachments": {},
   "cell_type": "markdown",
   "id": "dd4611b1-70d5-4c1e-bc35-fd4fcb3dc614",
   "metadata": {
    "tags": []
   },
   "source": [
    "Um estagiário alienígena de outro universo recebeu uma bolsa de iniciação científica para descobrir algumas leis da física de nosso universo.\n",
    "\n",
    "Ele possui apenas uma hora em nosso universo devido a contingência de gastos de seu planeta de origem, e decide então apenas coletar dados de sensores."
   ]
  },
  {
   "attachments": {},
   "cell_type": "markdown",
   "id": "69fae220-4a38-4f86-88f5-f38f85c6691b",
   "metadata": {},
   "source": [
    "## Tarefa 1\n",
    "\n",
    "Voltando para sua casa, nosso amigo 👽 deseja descobrir a lei que descreve a força resultante de objetos no espaço.\n",
    "\n",
    "Para este experimento, ele usará os seguintes dados de seus sensores:\n",
    "\n",
    "- $f$ : Força resultante (em Newton)\n",
    "- $m$ : Massa de um objeto observado (em $kg$)\n",
    "- $a$: Aceleração do objeto (em $m$/$s^2$)"
   ]
  },
  {
   "cell_type": "code",
   "execution_count": 2,
   "id": "d3732a64",
   "metadata": {},
   "outputs": [],
   "source": [
    "a = np.array([1000, 45, 350, 4, 0.1, 58.6, 0.12])\n",
    "m = np.array([3, 38, 0.1, 500, 4777, 3.56, 0.25])\n",
    "f = np.array([3000.440045, 1710.059296, 34.67584531, 1999.505549, 477.948657, 208.3847164, -0.02876546])"
   ]
  },
  {
   "attachments": {},
   "cell_type": "markdown",
   "id": "d573838a-2158-4370-af00-4e448ce3f850",
   "metadata": {},
   "source": [
    "### Modelo linear"
   ]
  },
  {
   "attachments": {},
   "cell_type": "markdown",
   "id": "d97750c2-b425-41d3-baeb-105fac689330",
   "metadata": {},
   "source": [
    "👽 primeiro supõe um modelo linear para descrever o problema"
   ]
  },
  {
   "attachments": {},
   "cell_type": "markdown",
   "id": "028d8098",
   "metadata": {},
   "source": [
    "Para o ajudar, implemente uma função que retorna a pseudo-inversa de uma matriz:\n",
    "$$(A^T A)^{-1} A^T$$"
   ]
  },
  {
   "cell_type": "code",
   "execution_count": 3,
   "id": "9fabebfe",
   "metadata": {},
   "outputs": [],
   "source": [
    "# Pseudo-inversa de A\n",
    "def pinv(A):\n",
    "    linhas, colunas = A.shape\n",
    "    AT = np.zeros((colunas,linhas))\n",
    "    for i in range(linhas):\n",
    "        for j in range(colunas):\n",
    "            AT[j,i] = A[i,j]\n",
    "            \n",
    "    try:\n",
    "        AT_A_inv = np.linalg.inv(AT @ A)\n",
    "    except Exception as e:\n",
    "        print(\"Erro: \",e)\n",
    "    \n",
    "    pseudo_A = AT_A_inv @ AT\n",
    "    \n",
    "    return pseudo_A"
   ]
  },
  {
   "attachments": {},
   "cell_type": "markdown",
   "id": "85225907",
   "metadata": {},
   "source": [
    "Agora o ajude a resolver o modelo linear"
   ]
  },
  {
   "cell_type": "code",
   "execution_count": 4,
   "id": "29ce084a",
   "metadata": {},
   "outputs": [
    {
     "name": "stdout",
     "output_type": "stream",
     "text": [
      "[ 6.79074930e+02  1.87938961e+00 -1.17158937e-02]\n"
     ]
    }
   ],
   "source": [
    "A = np.column_stack((np.ones_like(f), a, m))\n",
    "\n",
    "# modelo f = A * x\n",
    "x = pinv(A) @ f\n",
    "\n",
    "print(x)"
   ]
  },
  {
   "cell_type": "code",
   "execution_count": 5,
   "id": "75804d7e",
   "metadata": {},
   "outputs": [
    {
     "data": {
      "text/html": [
       "<div>\n",
       "<style scoped>\n",
       "    .dataframe tbody tr th:only-of-type {\n",
       "        vertical-align: middle;\n",
       "    }\n",
       "\n",
       "    .dataframe tbody tr th {\n",
       "        vertical-align: top;\n",
       "    }\n",
       "\n",
       "    .dataframe thead th {\n",
       "        text-align: right;\n",
       "    }\n",
       "</style>\n",
       "<table border=\"1\" class=\"dataframe\">\n",
       "  <thead>\n",
       "    <tr style=\"text-align: right;\">\n",
       "      <th></th>\n",
       "      <th>f</th>\n",
       "      <th>f_est</th>\n",
       "      <th>erro</th>\n",
       "      <th>erro_relativo</th>\n",
       "    </tr>\n",
       "  </thead>\n",
       "  <tbody>\n",
       "    <tr>\n",
       "      <th>0</th>\n",
       "      <td>3000.440045</td>\n",
       "      <td>2558.429394</td>\n",
       "      <td>442.010651</td>\n",
       "      <td>0.172766</td>\n",
       "    </tr>\n",
       "    <tr>\n",
       "      <th>1</th>\n",
       "      <td>1710.059296</td>\n",
       "      <td>763.202259</td>\n",
       "      <td>946.857037</td>\n",
       "      <td>1.240637</td>\n",
       "    </tr>\n",
       "    <tr>\n",
       "      <th>2</th>\n",
       "      <td>34.675845</td>\n",
       "      <td>1336.860123</td>\n",
       "      <td>-1302.184277</td>\n",
       "      <td>-0.974062</td>\n",
       "    </tr>\n",
       "    <tr>\n",
       "      <th>3</th>\n",
       "      <td>1999.505549</td>\n",
       "      <td>680.734542</td>\n",
       "      <td>1318.771007</td>\n",
       "      <td>1.937276</td>\n",
       "    </tr>\n",
       "    <tr>\n",
       "      <th>4</th>\n",
       "      <td>477.948657</td>\n",
       "      <td>623.296045</td>\n",
       "      <td>-145.347388</td>\n",
       "      <td>-0.233192</td>\n",
       "    </tr>\n",
       "    <tr>\n",
       "      <th>5</th>\n",
       "      <td>208.384716</td>\n",
       "      <td>789.165453</td>\n",
       "      <td>-580.780737</td>\n",
       "      <td>-0.735943</td>\n",
       "    </tr>\n",
       "    <tr>\n",
       "      <th>6</th>\n",
       "      <td>-0.028765</td>\n",
       "      <td>679.297528</td>\n",
       "      <td>-679.326294</td>\n",
       "      <td>-1.000042</td>\n",
       "    </tr>\n",
       "  </tbody>\n",
       "</table>\n",
       "</div>"
      ],
      "text/plain": [
       "             f        f_est         erro  erro_relativo\n",
       "0  3000.440045  2558.429394   442.010651       0.172766\n",
       "1  1710.059296   763.202259   946.857037       1.240637\n",
       "2    34.675845  1336.860123 -1302.184277      -0.974062\n",
       "3  1999.505549   680.734542  1318.771007       1.937276\n",
       "4   477.948657   623.296045  -145.347388      -0.233192\n",
       "5   208.384716   789.165453  -580.780737      -0.735943\n",
       "6    -0.028765   679.297528  -679.326294      -1.000042"
      ]
     },
     "execution_count": 5,
     "metadata": {},
     "output_type": "execute_result"
    }
   ],
   "source": [
    "# Erro relativo das primeiras 5 observações\n",
    "res = pd.DataFrame({\n",
    "    'f': f,\n",
    "    'f_est': A @ x,\n",
    "    'erro': f - A @ x,\n",
    "    'erro_relativo': (f - A @ x) / (A @ x)})\n",
    "res"
   ]
  },
  {
   "attachments": {},
   "cell_type": "markdown",
   "id": "a8121879-b87d-4073-af3e-8fe55c9c56ed",
   "metadata": {},
   "source": [
    "Note que o valor estimado é muito diferente do real"
   ]
  },
  {
   "cell_type": "code",
   "execution_count": 6,
   "id": "8b067b08",
   "metadata": {},
   "outputs": [
    {
     "data": {
      "text/plain": [
       "873.9621490734941"
      ]
     },
     "execution_count": 6,
     "metadata": {},
     "output_type": "execute_result"
    }
   ],
   "source": [
    "# Erro RMSE\n",
    "(res.erro**2).mean()**0.5   # np.mean((f - A @ x)**2)**0.5"
   ]
  },
  {
   "attachments": {},
   "cell_type": "markdown",
   "id": "0f112cc2-23b9-46b9-8d8e-0f418b379c9d",
   "metadata": {},
   "source": [
    "Observe que, como um típico aluno de iniciação científica, ele não testou nenhuma das suposições para modelos lineares e nem verificou a significância estatística das variáveis."
   ]
  },
  {
   "attachments": {},
   "cell_type": "markdown",
   "id": "aef68112-02b1-4f94-9891-80408da5ada4",
   "metadata": {},
   "source": [
    "### Modelo quadrático\n",
    "\n",
    "Não gostando do resultado, ele tenta um modelo não linear:\n",
    "\n",
    "$f(m, a) = c_0 + c_1 a + c_2 m + c_3 a^2 + c_4 m^2 + c_5 m a$"
   ]
  },
  {
   "cell_type": "code",
   "execution_count": 7,
   "id": "e4e68978",
   "metadata": {},
   "outputs": [
    {
     "data": {
      "text/html": [
       "<div>\n",
       "<style scoped>\n",
       "    .dataframe tbody tr th:only-of-type {\n",
       "        vertical-align: middle;\n",
       "    }\n",
       "\n",
       "    .dataframe tbody tr th {\n",
       "        vertical-align: top;\n",
       "    }\n",
       "\n",
       "    .dataframe thead th {\n",
       "        text-align: right;\n",
       "    }\n",
       "</style>\n",
       "<table border=\"1\" class=\"dataframe\">\n",
       "  <thead>\n",
       "    <tr style=\"text-align: right;\">\n",
       "      <th></th>\n",
       "      <th>c</th>\n",
       "      <th>a</th>\n",
       "      <th>m</th>\n",
       "      <th>a2</th>\n",
       "      <th>m2</th>\n",
       "      <th>ma</th>\n",
       "    </tr>\n",
       "  </thead>\n",
       "  <tbody>\n",
       "    <tr>\n",
       "      <th>0</th>\n",
       "      <td>1.0</td>\n",
       "      <td>1000.00</td>\n",
       "      <td>3.00</td>\n",
       "      <td>1000000.0000</td>\n",
       "      <td>9.000000e+00</td>\n",
       "      <td>3000.000</td>\n",
       "    </tr>\n",
       "    <tr>\n",
       "      <th>1</th>\n",
       "      <td>1.0</td>\n",
       "      <td>45.00</td>\n",
       "      <td>38.00</td>\n",
       "      <td>2025.0000</td>\n",
       "      <td>1.444000e+03</td>\n",
       "      <td>1710.000</td>\n",
       "    </tr>\n",
       "    <tr>\n",
       "      <th>2</th>\n",
       "      <td>1.0</td>\n",
       "      <td>350.00</td>\n",
       "      <td>0.10</td>\n",
       "      <td>122500.0000</td>\n",
       "      <td>1.000000e-02</td>\n",
       "      <td>35.000</td>\n",
       "    </tr>\n",
       "    <tr>\n",
       "      <th>3</th>\n",
       "      <td>1.0</td>\n",
       "      <td>4.00</td>\n",
       "      <td>500.00</td>\n",
       "      <td>16.0000</td>\n",
       "      <td>2.500000e+05</td>\n",
       "      <td>2000.000</td>\n",
       "    </tr>\n",
       "    <tr>\n",
       "      <th>4</th>\n",
       "      <td>1.0</td>\n",
       "      <td>0.10</td>\n",
       "      <td>4777.00</td>\n",
       "      <td>0.0100</td>\n",
       "      <td>2.281973e+07</td>\n",
       "      <td>477.700</td>\n",
       "    </tr>\n",
       "    <tr>\n",
       "      <th>5</th>\n",
       "      <td>1.0</td>\n",
       "      <td>58.60</td>\n",
       "      <td>3.56</td>\n",
       "      <td>3433.9600</td>\n",
       "      <td>1.267360e+01</td>\n",
       "      <td>208.616</td>\n",
       "    </tr>\n",
       "    <tr>\n",
       "      <th>6</th>\n",
       "      <td>1.0</td>\n",
       "      <td>0.12</td>\n",
       "      <td>0.25</td>\n",
       "      <td>0.0144</td>\n",
       "      <td>6.250000e-02</td>\n",
       "      <td>0.030</td>\n",
       "    </tr>\n",
       "  </tbody>\n",
       "</table>\n",
       "</div>"
      ],
      "text/plain": [
       "     c        a        m            a2            m2        ma\n",
       "0  1.0  1000.00     3.00  1000000.0000  9.000000e+00  3000.000\n",
       "1  1.0    45.00    38.00     2025.0000  1.444000e+03  1710.000\n",
       "2  1.0   350.00     0.10   122500.0000  1.000000e-02    35.000\n",
       "3  1.0     4.00   500.00       16.0000  2.500000e+05  2000.000\n",
       "4  1.0     0.10  4777.00        0.0100  2.281973e+07   477.700\n",
       "5  1.0    58.60     3.56     3433.9600  1.267360e+01   208.616\n",
       "6  1.0     0.12     0.25        0.0144  6.250000e-02     0.030"
      ]
     },
     "execution_count": 7,
     "metadata": {},
     "output_type": "execute_result"
    }
   ],
   "source": [
    "A = pd.DataFrame({\n",
    "    'c': np.ones_like(f),\n",
    "    'a': a,\n",
    "    'm': m,\n",
    "    'a2': a*a,\n",
    "    'm2': m*m,\n",
    "    'ma': m*a})\n",
    "A"
   ]
  },
  {
   "cell_type": "code",
   "execution_count": 10,
   "id": "70df688a",
   "metadata": {},
   "outputs": [
    {
     "data": {
      "text/html": [
       "<div>\n",
       "<style scoped>\n",
       "    .dataframe tbody tr th:only-of-type {\n",
       "        vertical-align: middle;\n",
       "    }\n",
       "\n",
       "    .dataframe tbody tr th {\n",
       "        vertical-align: top;\n",
       "    }\n",
       "\n",
       "    .dataframe thead th {\n",
       "        text-align: right;\n",
       "    }\n",
       "</style>\n",
       "<table border=\"1\" class=\"dataframe\">\n",
       "  <thead>\n",
       "    <tr style=\"text-align: right;\">\n",
       "      <th></th>\n",
       "      <th>f</th>\n",
       "      <th>f_est</th>\n",
       "      <th>erro</th>\n",
       "      <th>erro_relativo</th>\n",
       "    </tr>\n",
       "  </thead>\n",
       "  <tbody>\n",
       "    <tr>\n",
       "      <th>0</th>\n",
       "      <td>3000.440045</td>\n",
       "      <td>3000.441979</td>\n",
       "      <td>-0.001934</td>\n",
       "      <td>-6.444443e-07</td>\n",
       "    </tr>\n",
       "    <tr>\n",
       "      <th>1</th>\n",
       "      <td>1710.059296</td>\n",
       "      <td>1710.045294</td>\n",
       "      <td>0.014002</td>\n",
       "      <td>8.188101e-06</td>\n",
       "    </tr>\n",
       "    <tr>\n",
       "      <th>2</th>\n",
       "      <td>34.675845</td>\n",
       "      <td>34.657911</td>\n",
       "      <td>0.017935</td>\n",
       "      <td>5.174754e-04</td>\n",
       "    </tr>\n",
       "    <tr>\n",
       "      <th>3</th>\n",
       "      <td>1999.505549</td>\n",
       "      <td>1999.506075</td>\n",
       "      <td>-0.000526</td>\n",
       "      <td>-2.631029e-07</td>\n",
       "    </tr>\n",
       "    <tr>\n",
       "      <th>4</th>\n",
       "      <td>477.948657</td>\n",
       "      <td>477.948652</td>\n",
       "      <td>0.000005</td>\n",
       "      <td>1.030469e-08</td>\n",
       "    </tr>\n",
       "    <tr>\n",
       "      <th>5</th>\n",
       "      <td>208.384716</td>\n",
       "      <td>208.469668</td>\n",
       "      <td>-0.084951</td>\n",
       "      <td>-4.074992e-04</td>\n",
       "    </tr>\n",
       "    <tr>\n",
       "      <th>6</th>\n",
       "      <td>-0.028765</td>\n",
       "      <td>-0.084235</td>\n",
       "      <td>0.055469</td>\n",
       "      <td>-6.585086e-01</td>\n",
       "    </tr>\n",
       "  </tbody>\n",
       "</table>\n",
       "</div>"
      ],
      "text/plain": [
       "             f        f_est      erro  erro_relativo\n",
       "0  3000.440045  3000.441979 -0.001934  -6.444443e-07\n",
       "1  1710.059296  1710.045294  0.014002   8.188101e-06\n",
       "2    34.675845    34.657911  0.017935   5.174754e-04\n",
       "3  1999.505549  1999.506075 -0.000526  -2.631029e-07\n",
       "4   477.948657   477.948652  0.000005   1.030469e-08\n",
       "5   208.384716   208.469668 -0.084951  -4.074992e-04\n",
       "6    -0.028765    -0.084235  0.055469  -6.585086e-01"
      ]
     },
     "execution_count": 10,
     "metadata": {},
     "output_type": "execute_result"
    }
   ],
   "source": [
    "A = np.column_stack((np.ones_like(f), a, m,a*a,m*m,m*a))\n",
    "\n",
    "# modelo f = A * x\n",
    "\n",
    "x = pinv(A) @ f\n",
    "\n",
    "# Erro relativo das primeiras 5 observações\n",
    "res = pd.DataFrame({\n",
    "    'f': f,\n",
    "    'f_est': A @ x,\n",
    "    'erro': f - A @ x,\n",
    "    'erro_relativo': (f - A @ x) / (A @ x)})\n",
    "res"
   ]
  },
  {
   "attachments": {},
   "cell_type": "markdown",
   "id": "5187607c-7609-46e8-aa13-bc78f6834c79",
   "metadata": {},
   "source": [
    "Perceba agora os erros muito pequenos. Vamos ver os coeficientes"
   ]
  },
  {
   "cell_type": "code",
   "execution_count": 11,
   "id": "4b6c9cb1",
   "metadata": {},
   "outputs": [
    {
     "data": {
      "text/plain": [
       "array([-0.11, -0.  , -0.  ,  0.  ,  0.  ,  1.  ])"
      ]
     },
     "execution_count": 11,
     "metadata": {},
     "output_type": "execute_result"
    }
   ],
   "source": [
    "x.round(2)"
   ]
  },
  {
   "attachments": {},
   "cell_type": "markdown",
   "id": "1bfa252f-b5e8-486e-8d1c-9261106a612a",
   "metadata": {},
   "source": [
    "Ou seja, resulta na fórmula: $f = -0.11 + m * a$\n",
    "\n",
    "Muito próximo da fórmula real $f = m * a$\n",
    "\n",
    "A diferença é devido aos sensores de baixa qualidade do Alien e poucas medições."
   ]
  },
  {
   "cell_type": "code",
   "execution_count": 12,
   "id": "3c982e08-d23f-4abb-9dd1-133e301bb506",
   "metadata": {},
   "outputs": [
    {
     "data": {
      "text/plain": [
       "0.039306996941771144"
      ]
     },
     "execution_count": 12,
     "metadata": {},
     "output_type": "execute_result"
    }
   ],
   "source": [
    "# Erro RMSE\n",
    "(res.erro**2).mean()**0.5   # np.mean((f - A @ x)**2)**0.5"
   ]
  },
  {
   "attachments": {},
   "cell_type": "markdown",
   "id": "2203083b-34a6-426b-a808-6fe409c5ec07",
   "metadata": {},
   "source": [
    "## Tarefa 2\n",
    "\n",
    "Depois ele tenta descobrir a energia potencial gravitacional $e$ em Joules, através dos sensores\n",
    "\n",
    "- $m$ : Massa de um objeto observado (em $kg$)\n",
    "- $h$: Altura (em $m$)\n",
    "\n",
    "Desta, vez, ela já tenta direto um modelo quadrático"
   ]
  },
  {
   "cell_type": "code",
   "execution_count": 13,
   "id": "aea0466d-9f55-479e-9faf-e7b5cf2081d4",
   "metadata": {},
   "outputs": [],
   "source": [
    "m = np.array([3, 38, 0.1, 500, 4777, 3.56, 0.25])\n",
    "h = np.array([345, 1, 56789, 5561, 67, 0.5, 920])\n",
    "e = np.array([10142.49025, 372.3987424, 55653.20951, 27248900.1, 3136578.45, 17.16789564, 2253.931423])"
   ]
  },
  {
   "cell_type": "code",
   "execution_count": 14,
   "id": "fe1e5fce",
   "metadata": {},
   "outputs": [
    {
     "data": {
      "text/html": [
       "<div>\n",
       "<style scoped>\n",
       "    .dataframe tbody tr th:only-of-type {\n",
       "        vertical-align: middle;\n",
       "    }\n",
       "\n",
       "    .dataframe tbody tr th {\n",
       "        vertical-align: top;\n",
       "    }\n",
       "\n",
       "    .dataframe thead th {\n",
       "        text-align: right;\n",
       "    }\n",
       "</style>\n",
       "<table border=\"1\" class=\"dataframe\">\n",
       "  <thead>\n",
       "    <tr style=\"text-align: right;\">\n",
       "      <th></th>\n",
       "      <th>c</th>\n",
       "      <th>m</th>\n",
       "      <th>h</th>\n",
       "      <th>m2</th>\n",
       "      <th>h2</th>\n",
       "      <th>mh</th>\n",
       "    </tr>\n",
       "  </thead>\n",
       "  <tbody>\n",
       "    <tr>\n",
       "      <th>0</th>\n",
       "      <td>1.0</td>\n",
       "      <td>3.00</td>\n",
       "      <td>345.0</td>\n",
       "      <td>9.000000e+00</td>\n",
       "      <td>1.190250e+05</td>\n",
       "      <td>1035.00</td>\n",
       "    </tr>\n",
       "    <tr>\n",
       "      <th>1</th>\n",
       "      <td>1.0</td>\n",
       "      <td>38.00</td>\n",
       "      <td>1.0</td>\n",
       "      <td>1.444000e+03</td>\n",
       "      <td>1.000000e+00</td>\n",
       "      <td>38.00</td>\n",
       "    </tr>\n",
       "    <tr>\n",
       "      <th>2</th>\n",
       "      <td>1.0</td>\n",
       "      <td>0.10</td>\n",
       "      <td>56789.0</td>\n",
       "      <td>1.000000e-02</td>\n",
       "      <td>3.224991e+09</td>\n",
       "      <td>5678.90</td>\n",
       "    </tr>\n",
       "    <tr>\n",
       "      <th>3</th>\n",
       "      <td>1.0</td>\n",
       "      <td>500.00</td>\n",
       "      <td>5561.0</td>\n",
       "      <td>2.500000e+05</td>\n",
       "      <td>3.092472e+07</td>\n",
       "      <td>2780500.00</td>\n",
       "    </tr>\n",
       "    <tr>\n",
       "      <th>4</th>\n",
       "      <td>1.0</td>\n",
       "      <td>4777.00</td>\n",
       "      <td>67.0</td>\n",
       "      <td>2.281973e+07</td>\n",
       "      <td>4.489000e+03</td>\n",
       "      <td>320059.00</td>\n",
       "    </tr>\n",
       "    <tr>\n",
       "      <th>5</th>\n",
       "      <td>1.0</td>\n",
       "      <td>3.56</td>\n",
       "      <td>0.5</td>\n",
       "      <td>1.267360e+01</td>\n",
       "      <td>2.500000e-01</td>\n",
       "      <td>1.78</td>\n",
       "    </tr>\n",
       "    <tr>\n",
       "      <th>6</th>\n",
       "      <td>1.0</td>\n",
       "      <td>0.25</td>\n",
       "      <td>920.0</td>\n",
       "      <td>6.250000e-02</td>\n",
       "      <td>8.464000e+05</td>\n",
       "      <td>230.00</td>\n",
       "    </tr>\n",
       "  </tbody>\n",
       "</table>\n",
       "</div>"
      ],
      "text/plain": [
       "     c        m        h            m2            h2          mh\n",
       "0  1.0     3.00    345.0  9.000000e+00  1.190250e+05     1035.00\n",
       "1  1.0    38.00      1.0  1.444000e+03  1.000000e+00       38.00\n",
       "2  1.0     0.10  56789.0  1.000000e-02  3.224991e+09     5678.90\n",
       "3  1.0   500.00   5561.0  2.500000e+05  3.092472e+07  2780500.00\n",
       "4  1.0  4777.00     67.0  2.281973e+07  4.489000e+03   320059.00\n",
       "5  1.0     3.56      0.5  1.267360e+01  2.500000e-01        1.78\n",
       "6  1.0     0.25    920.0  6.250000e-02  8.464000e+05      230.00"
      ]
     },
     "execution_count": 14,
     "metadata": {},
     "output_type": "execute_result"
    }
   ],
   "source": [
    "# complete abaixo\n",
    "A = pd.DataFrame({\n",
    "    'c': np.ones_like(e),\n",
    "    'm': m,\n",
    "    'h': h,\n",
    "    'm2': m*m,\n",
    "    'h2': h*h,\n",
    "    'mh': m*h,})\n",
    "A"
   ]
  },
  {
   "cell_type": "code",
   "execution_count": 16,
   "id": "3a7ec5af-d1ca-46de-a147-593ba818321c",
   "metadata": {},
   "outputs": [
    {
     "data": {
      "text/html": [
       "<div>\n",
       "<style scoped>\n",
       "    .dataframe tbody tr th:only-of-type {\n",
       "        vertical-align: middle;\n",
       "    }\n",
       "\n",
       "    .dataframe tbody tr th {\n",
       "        vertical-align: top;\n",
       "    }\n",
       "\n",
       "    .dataframe thead th {\n",
       "        text-align: right;\n",
       "    }\n",
       "</style>\n",
       "<table border=\"1\" class=\"dataframe\">\n",
       "  <thead>\n",
       "    <tr style=\"text-align: right;\">\n",
       "      <th></th>\n",
       "      <th>e</th>\n",
       "      <th>f_est</th>\n",
       "      <th>erro</th>\n",
       "      <th>erro_relativo</th>\n",
       "    </tr>\n",
       "  </thead>\n",
       "  <tbody>\n",
       "    <tr>\n",
       "      <th>0</th>\n",
       "      <td>1.014249e+04</td>\n",
       "      <td>1.014270e+04</td>\n",
       "      <td>-0.209261</td>\n",
       "      <td>-2.063172e-05</td>\n",
       "    </tr>\n",
       "    <tr>\n",
       "      <th>1</th>\n",
       "      <td>3.723987e+02</td>\n",
       "      <td>3.723955e+02</td>\n",
       "      <td>0.003280</td>\n",
       "      <td>8.808840e-06</td>\n",
       "    </tr>\n",
       "    <tr>\n",
       "      <th>2</th>\n",
       "      <td>5.565321e+04</td>\n",
       "      <td>5.565321e+04</td>\n",
       "      <td>-0.000010</td>\n",
       "      <td>-1.847906e-10</td>\n",
       "    </tr>\n",
       "    <tr>\n",
       "      <th>3</th>\n",
       "      <td>2.724890e+07</td>\n",
       "      <td>2.724890e+07</td>\n",
       "      <td>0.000075</td>\n",
       "      <td>2.759971e-12</td>\n",
       "    </tr>\n",
       "    <tr>\n",
       "      <th>4</th>\n",
       "      <td>3.136578e+06</td>\n",
       "      <td>3.136578e+06</td>\n",
       "      <td>0.000041</td>\n",
       "      <td>1.293620e-11</td>\n",
       "    </tr>\n",
       "    <tr>\n",
       "      <th>5</th>\n",
       "      <td>1.716790e+01</td>\n",
       "      <td>1.704077e+01</td>\n",
       "      <td>0.127122</td>\n",
       "      <td>7.459847e-03</td>\n",
       "    </tr>\n",
       "    <tr>\n",
       "      <th>6</th>\n",
       "      <td>2.253931e+03</td>\n",
       "      <td>2.253853e+03</td>\n",
       "      <td>0.078816</td>\n",
       "      <td>3.496926e-05</td>\n",
       "    </tr>\n",
       "  </tbody>\n",
       "</table>\n",
       "</div>"
      ],
      "text/plain": [
       "              e         f_est      erro  erro_relativo\n",
       "0  1.014249e+04  1.014270e+04 -0.209261  -2.063172e-05\n",
       "1  3.723987e+02  3.723955e+02  0.003280   8.808840e-06\n",
       "2  5.565321e+04  5.565321e+04 -0.000010  -1.847906e-10\n",
       "3  2.724890e+07  2.724890e+07  0.000075   2.759971e-12\n",
       "4  3.136578e+06  3.136578e+06  0.000041   1.293620e-11\n",
       "5  1.716790e+01  1.704077e+01  0.127122   7.459847e-03\n",
       "6  2.253931e+03  2.253853e+03  0.078816   3.496926e-05"
      ]
     },
     "execution_count": 16,
     "metadata": {},
     "output_type": "execute_result"
    }
   ],
   "source": [
    "A = np.column_stack((np.ones_like(e), m, h,m*m,h*h,m*h))\n",
    "\n",
    "# modelo f = A * x\n",
    "x = pinv(A) @ e\n",
    "\n",
    "# Erro relativo das primeiras 5 observações\n",
    "res = pd.DataFrame({\n",
    "    'e': e,\n",
    "    'f_est': A @ x,\n",
    "    'erro': e - A @ x,\n",
    "    'erro_relativo': (e - A @ x) / (A @ x)})\n",
    "res"
   ]
  },
  {
   "attachments": {},
   "cell_type": "markdown",
   "id": "e36f5781-9b53-42ee-bd7e-b96b482f1015",
   "metadata": {},
   "source": [
    "Resultados muito próximos, estimado e reais. Vamos ver os coeficientes"
   ]
  },
  {
   "cell_type": "code",
   "execution_count": 17,
   "id": "6bbed8b9",
   "metadata": {},
   "outputs": [
    {
     "data": {
      "text/plain": [
       "array([-0.44,  0.01,  0.  , -0.  , -0.  ,  9.8 ])"
      ]
     },
     "execution_count": 17,
     "metadata": {},
     "output_type": "execute_result"
    }
   ],
   "source": [
    "x.round(2)"
   ]
  },
  {
   "attachments": {},
   "cell_type": "markdown",
   "id": "58e4d3b3-4b01-4a4f-a45a-cad2dc06a89b",
   "metadata": {},
   "source": [
    "Resulta em $e = -0.44 + 9.8 m h$\n",
    "\n",
    "Na verdade o aluno encontrou $e = -0.44 + 0.01 m+ 9.8 m h$   Que ainda é muito parecido\n",
    "\n",
    "Muito próximo da lei: $e = g m h$, com aceleração da gravidade $g$ = 9.8 $m/s^2$.\n",
    "\n",
    "Observando a tabela da aceleração da gravidade em vários planetas em https://pt.wikipedia.org/wiki/Gravidade, tente descobrir de tal planeta ele capturou os dados."
   ]
  },
  {
   "cell_type": "code",
   "execution_count": 18,
   "id": "82b18731-32ff-4b54-9aa3-f1aa9372c668",
   "metadata": {},
   "outputs": [
    {
     "data": {
      "text/plain": [
       "0.09722790430986539"
      ]
     },
     "execution_count": 18,
     "metadata": {},
     "output_type": "execute_result"
    }
   ],
   "source": [
    "# Erro RMSE\n",
    "(res.erro**2).mean()**0.5   # np.mean((f - A @ x)**2)**0.5"
   ]
  }
 ],
 "metadata": {
  "kernelspec": {
   "display_name": "py3_11",
   "language": "python",
   "name": "python3"
  },
  "language_info": {
   "codemirror_mode": {
    "name": "ipython",
    "version": 3
   },
   "file_extension": ".py",
   "mimetype": "text/x-python",
   "name": "python",
   "nbconvert_exporter": "python",
   "pygments_lexer": "ipython3",
   "version": "3.11.2"
  }
 },
 "nbformat": 4,
 "nbformat_minor": 5
}
