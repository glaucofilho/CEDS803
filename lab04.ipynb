{
 "cells": [
  {
   "attachments": {},
   "cell_type": "markdown",
   "metadata": {},
   "source": [
    "# Modelagens de regressão\n",
    "\n",
    "Este lab explorar modelagens diferentes para o problema de regressão.\n",
    "\n",
    "Para resolver diversos problemas, é interessante sempre utilizar um solver poderoso, de preferência que aceite restrições para que você não tenha que fazer o Lagrangiano manualmente. Além do trabalho, solvers que aceitam restrições realizam uma centenas ou milhares de heurísticas para simplificar as restrições e o problema, antes de iniciar a solução de fato.\n",
    "\n",
    "Por questões didáticas, a seguir usamos um solver simples disponível pela biblioteca `scipy`."
   ]
  },
  {
   "cell_type": "code",
   "execution_count": 1,
   "metadata": {},
   "outputs": [],
   "source": [
    "import numpy as np\n",
    "import matplotlib.pyplot as plt\n",
    "import pandas as pd\n",
    "import os\n",
    "from scipy.optimize import minimize"
   ]
  },
  {
   "attachments": {},
   "cell_type": "markdown",
   "metadata": {},
   "source": [
    "Abaixo segue a função a ser aprendida adicionada de um ruído com distribuição normal."
   ]
  },
  {
   "cell_type": "code",
   "execution_count": 2,
   "metadata": {},
   "outputs": [],
   "source": [
    "f = lambda x: 2*x + 1\n",
    "\n",
    "# b = f(x) + ruído\n",
    "x = np.linspace(-2, 2, 20).flatten()\n",
    "b = f(x) + np.random.normal(0, 1, x.shape)"
   ]
  },
  {
   "cell_type": "code",
   "execution_count": 3,
   "metadata": {},
   "outputs": [
    {
     "data": {
      "image/png": "[encoded data removed]",
      "text/plain": [
       "<Figure size 640x480 with 1 Axes>"
      ]
     },
     "metadata": {},
     "output_type": "display_data"
    }
   ],
   "source": [
    "# Verificando graficamente\n",
    "plt.plot(x, f(x), label='f(x)')\n",
    "plt.scatter(x, b, color='red', label='b')\n",
    "plt.xlabel('x')\n",
    "plt.ylabel('y')\n",
    "plt.legend()\n",
    "plt.grid(True)\n",
    "plt.title(\"Função VS Amostra\")\n",
    "plt.show()"
   ]
  },
  {
   "attachments": {},
   "cell_type": "markdown",
   "metadata": {},
   "source": [
    "Como o ruído é normal e pequeno, uma regressão através da norma euclidiana funciona bem."
   ]
  },
  {
   "cell_type": "code",
   "execution_count": 4,
   "metadata": {},
   "outputs": [],
   "source": [
    "# funcao para retornar a pseudo-inversa\n",
    "def pinv(A):\n",
    "    linhas, colunas = A.shape\n",
    "    AT = np.zeros((colunas,linhas))\n",
    "    for i in range(linhas):\n",
    "        for j in range(colunas):\n",
    "            AT[j,i] = A[i,j]\n",
    "            \n",
    "    try:\n",
    "        AT_A_inv = np.linalg.inv(AT @ A)\n",
    "    except Exception as e:\n",
    "        print(\"Erro: \",e)\n",
    "    \n",
    "    pseudo_A = AT_A_inv @ AT\n",
    "    \n",
    "    return pseudo_A"
   ]
  },
  {
   "attachments": {},
   "cell_type": "markdown",
   "metadata": {},
   "source": [
    "Resolvendo o modelo linear"
   ]
  },
  {
   "cell_type": "code",
   "execution_count": 5,
   "metadata": {},
   "outputs": [
    {
     "data": {
      "text/plain": [
       "array([0.87790414, 2.17502624])"
      ]
     },
     "execution_count": 5,
     "metadata": {},
     "output_type": "execute_result"
    }
   ],
   "source": [
    "A = np.column_stack((np.ones_like(b), x))\n",
    "\n",
    "# modelo f = A * x\n",
    "coefs = pinv(A) @ b\n",
    "\n",
    "coefs"
   ]
  },
  {
   "cell_type": "code",
   "execution_count": 6,
   "metadata": {},
   "outputs": [
    {
     "data": {
      "text/html": [
       "<div>\n",
       "<style scoped>\n",
       "    .dataframe tbody tr th:only-of-type {\n",
       "        vertical-align: middle;\n",
       "    }\n",
       "\n",
       "    .dataframe tbody tr th {\n",
       "        vertical-align: top;\n",
       "    }\n",
       "\n",
       "    .dataframe thead th {\n",
       "        text-align: right;\n",
       "    }\n",
       "</style>\n",
       "<table border=\"1\" class=\"dataframe\">\n",
       "  <thead>\n",
       "    <tr style=\"text-align: right;\">\n",
       "      <th></th>\n",
       "      <th>f</th>\n",
       "      <th>f_est</th>\n",
       "      <th>erro</th>\n",
       "      <th>erro_relativo</th>\n",
       "    </tr>\n",
       "  </thead>\n",
       "  <tbody>\n",
       "    <tr>\n",
       "      <th>0</th>\n",
       "      <td>-3.000000</td>\n",
       "      <td>-3.472148</td>\n",
       "      <td>0.472148</td>\n",
       "      <td>-0.135982</td>\n",
       "    </tr>\n",
       "    <tr>\n",
       "      <th>1</th>\n",
       "      <td>-2.578947</td>\n",
       "      <td>-3.014248</td>\n",
       "      <td>0.435301</td>\n",
       "      <td>-0.144414</td>\n",
       "    </tr>\n",
       "    <tr>\n",
       "      <th>2</th>\n",
       "      <td>-2.157895</td>\n",
       "      <td>-2.556348</td>\n",
       "      <td>0.398453</td>\n",
       "      <td>-0.155868</td>\n",
       "    </tr>\n",
       "    <tr>\n",
       "      <th>3</th>\n",
       "      <td>-1.736842</td>\n",
       "      <td>-2.098448</td>\n",
       "      <td>0.361605</td>\n",
       "      <td>-0.172320</td>\n",
       "    </tr>\n",
       "    <tr>\n",
       "      <th>4</th>\n",
       "      <td>-1.315789</td>\n",
       "      <td>-1.640547</td>\n",
       "      <td>0.324758</td>\n",
       "      <td>-0.197957</td>\n",
       "    </tr>\n",
       "    <tr>\n",
       "      <th>5</th>\n",
       "      <td>-0.894737</td>\n",
       "      <td>-1.182647</td>\n",
       "      <td>0.287910</td>\n",
       "      <td>-0.243446</td>\n",
       "    </tr>\n",
       "    <tr>\n",
       "      <th>6</th>\n",
       "      <td>-0.473684</td>\n",
       "      <td>-0.724747</td>\n",
       "      <td>0.251063</td>\n",
       "      <td>-0.346414</td>\n",
       "    </tr>\n",
       "    <tr>\n",
       "      <th>7</th>\n",
       "      <td>-0.052632</td>\n",
       "      <td>-0.266847</td>\n",
       "      <td>0.214215</td>\n",
       "      <td>-0.802765</td>\n",
       "    </tr>\n",
       "    <tr>\n",
       "      <th>8</th>\n",
       "      <td>0.368421</td>\n",
       "      <td>0.191054</td>\n",
       "      <td>0.177367</td>\n",
       "      <td>0.928363</td>\n",
       "    </tr>\n",
       "    <tr>\n",
       "      <th>9</th>\n",
       "      <td>0.789474</td>\n",
       "      <td>0.648954</td>\n",
       "      <td>0.140520</td>\n",
       "      <td>0.216533</td>\n",
       "    </tr>\n",
       "    <tr>\n",
       "      <th>10</th>\n",
       "      <td>1.210526</td>\n",
       "      <td>1.106854</td>\n",
       "      <td>0.103672</td>\n",
       "      <td>0.093664</td>\n",
       "    </tr>\n",
       "    <tr>\n",
       "      <th>11</th>\n",
       "      <td>1.631579</td>\n",
       "      <td>1.564755</td>\n",
       "      <td>0.066824</td>\n",
       "      <td>0.042706</td>\n",
       "    </tr>\n",
       "    <tr>\n",
       "      <th>12</th>\n",
       "      <td>2.052632</td>\n",
       "      <td>2.022655</td>\n",
       "      <td>0.029977</td>\n",
       "      <td>0.014821</td>\n",
       "    </tr>\n",
       "    <tr>\n",
       "      <th>13</th>\n",
       "      <td>2.473684</td>\n",
       "      <td>2.480555</td>\n",
       "      <td>-0.006871</td>\n",
       "      <td>-0.002770</td>\n",
       "    </tr>\n",
       "    <tr>\n",
       "      <th>14</th>\n",
       "      <td>2.894737</td>\n",
       "      <td>2.938455</td>\n",
       "      <td>-0.043718</td>\n",
       "      <td>-0.014878</td>\n",
       "    </tr>\n",
       "    <tr>\n",
       "      <th>15</th>\n",
       "      <td>3.315789</td>\n",
       "      <td>3.396356</td>\n",
       "      <td>-0.080566</td>\n",
       "      <td>-0.023721</td>\n",
       "    </tr>\n",
       "    <tr>\n",
       "      <th>16</th>\n",
       "      <td>3.736842</td>\n",
       "      <td>3.854256</td>\n",
       "      <td>-0.117414</td>\n",
       "      <td>-0.030463</td>\n",
       "    </tr>\n",
       "    <tr>\n",
       "      <th>17</th>\n",
       "      <td>4.157895</td>\n",
       "      <td>4.312156</td>\n",
       "      <td>-0.154261</td>\n",
       "      <td>-0.035774</td>\n",
       "    </tr>\n",
       "    <tr>\n",
       "      <th>18</th>\n",
       "      <td>4.578947</td>\n",
       "      <td>4.770056</td>\n",
       "      <td>-0.191109</td>\n",
       "      <td>-0.040064</td>\n",
       "    </tr>\n",
       "    <tr>\n",
       "      <th>19</th>\n",
       "      <td>5.000000</td>\n",
       "      <td>5.227957</td>\n",
       "      <td>-0.227957</td>\n",
       "      <td>-0.043603</td>\n",
       "    </tr>\n",
       "  </tbody>\n",
       "</table>\n",
       "</div>"
      ],
      "text/plain": [
       "           f     f_est      erro  erro_relativo\n",
       "0  -3.000000 -3.472148  0.472148      -0.135982\n",
       "1  -2.578947 -3.014248  0.435301      -0.144414\n",
       "2  -2.157895 -2.556348  0.398453      -0.155868\n",
       "3  -1.736842 -2.098448  0.361605      -0.172320\n",
       "4  -1.315789 -1.640547  0.324758      -0.197957\n",
       "5  -0.894737 -1.182647  0.287910      -0.243446\n",
       "6  -0.473684 -0.724747  0.251063      -0.346414\n",
       "7  -0.052632 -0.266847  0.214215      -0.802765\n",
       "8   0.368421  0.191054  0.177367       0.928363\n",
       "9   0.789474  0.648954  0.140520       0.216533\n",
       "10  1.210526  1.106854  0.103672       0.093664\n",
       "11  1.631579  1.564755  0.066824       0.042706\n",
       "12  2.052632  2.022655  0.029977       0.014821\n",
       "13  2.473684  2.480555 -0.006871      -0.002770\n",
       "14  2.894737  2.938455 -0.043718      -0.014878\n",
       "15  3.315789  3.396356 -0.080566      -0.023721\n",
       "16  3.736842  3.854256 -0.117414      -0.030463\n",
       "17  4.157895  4.312156 -0.154261      -0.035774\n",
       "18  4.578947  4.770056 -0.191109      -0.040064\n",
       "19  5.000000  5.227957 -0.227957      -0.043603"
      ]
     },
     "execution_count": 6,
     "metadata": {},
     "output_type": "execute_result"
    }
   ],
   "source": [
    "# Erro relativo \n",
    "res = pd.DataFrame({\n",
    "    'f': f(x),\n",
    "    'f_est': A @ coefs,\n",
    "    'erro': f(x) - A @ coefs,\n",
    "    'erro_relativo': (f(x) - A @ coefs) / (A @ coefs)})\n",
    "res"
   ]
  },
  {
   "attachments": {},
   "cell_type": "markdown",
   "metadata": {},
   "source": [
    "Chegou-se a erros muito pequenos"
   ]
  },
  {
   "cell_type": "code",
   "execution_count": 11,
   "metadata": {},
   "outputs": [
    {
     "name": "stdout",
     "output_type": "stream",
     "text": [
      "Fórmula resultante: f(x) = 0.88 + 2.18*x\n"
     ]
    }
   ],
   "source": [
    "coefs.round(2)\n",
    "\n",
    "print(f\"Fórmula resultante: f(x) = {coefs.round(2)[0]} + {coefs.round(2)[1]}*x\")"
   ]
  },
  {
   "attachments": {},
   "cell_type": "markdown",
   "metadata": {},
   "source": [
    "## Regressão L2"
   ]
  },
  {
   "cell_type": "code",
   "execution_count": 12,
   "metadata": {},
   "outputs": [
    {
     "data": {
      "text/plain": [
       "array([[ 1.        , -2.        ],\n",
       "       [ 1.        , -1.78947368],\n",
       "       [ 1.        , -1.57894737],\n",
       "       [ 1.        , -1.36842105],\n",
       "       [ 1.        , -1.15789474],\n",
       "       [ 1.        , -0.94736842],\n",
       "       [ 1.        , -0.73684211],\n",
       "       [ 1.        , -0.52631579],\n",
       "       [ 1.        , -0.31578947],\n",
       "       [ 1.        , -0.10526316],\n",
       "       [ 1.        ,  0.10526316],\n",
       "       [ 1.        ,  0.31578947],\n",
       "       [ 1.        ,  0.52631579],\n",
       "       [ 1.        ,  0.73684211],\n",
       "       [ 1.        ,  0.94736842],\n",
       "       [ 1.        ,  1.15789474],\n",
       "       [ 1.        ,  1.36842105],\n",
       "       [ 1.        ,  1.57894737],\n",
       "       [ 1.        ,  1.78947368],\n",
       "       [ 1.        ,  2.        ]])"
      ]
     },
     "execution_count": 12,
     "metadata": {},
     "output_type": "execute_result"
    }
   ],
   "source": [
    "# matriz com as observações\n",
    "A = np.vstack([np.ones_like(x), x]).T\n",
    "A.shape\n",
    "A"
   ]
  },
  {
   "attachments": {},
   "cell_type": "markdown",
   "metadata": {},
   "source": [
    "Construa sua função de custo para minimizar o erro via normal L2, i.e., a raíz da soma dos quadrados dos erros."
   ]
  },
  {
   "cell_type": "code",
   "execution_count": 17,
   "metadata": {},
   "outputs": [],
   "source": [
    "# Retorna um vetor com os erros dado os parâmetros 'coefs'\n",
    "def error_vector(coefs):\n",
    "    predictions = A @ coefs\n",
    "    errors = predictions - f(x)\n",
    "    return errors\n",
    "\n",
    "# Retorna a norma L2 de v\n",
    "def L2_norm(v):\n",
    "    return np.sqrt(np.sum(v**2))\n",
    "\n",
    "# F.O.: Raíz quadrada da soma dos quadrados dos erros\n",
    "def L2_cost(v):\n",
    "    return L2_norm(error_vector(v))"
   ]
  },
  {
   "cell_type": "code",
   "execution_count": 18,
   "metadata": {},
   "outputs": [],
   "source": [
    "# Realiza a minimização da função de custo. L2_cost\n",
    "res = minimize(L2_cost, coefs)\n",
    "L2_cost_ret = res.x"
   ]
  },
  {
   "cell_type": "code",
   "execution_count": 22,
   "metadata": {},
   "outputs": [
    {
     "data": {
      "image/png": "[encoded data removed]",
      "text/plain": [
       "<Figure size 640x480 with 1 Axes>"
      ]
     },
     "metadata": {},
     "output_type": "display_data"
    }
   ],
   "source": [
    "plt.plot(x, b, 'o', label='Dados')\n",
    "plt.plot(x, f(x), label='f(x)')\n",
    "plt.plot(x, L2_cost_ret[0] + L2_cost_ret[1]*x, '--', label='L2 - sem outlier')\n",
    "\n",
    "plt.legend()\n",
    "plt.show()"
   ]
  },
  {
   "attachments": {},
   "cell_type": "markdown",
   "metadata": {},
   "source": [
    "Agora vamos adicionar um outlier e ver se a regressão ainda continua a funcionar"
   ]
  },
  {
   "cell_type": "code",
   "execution_count": 23,
   "metadata": {},
   "outputs": [],
   "source": [
    "# adicionando outlier\n",
    "b[-1] = -100\n",
    "\n",
    "A_2 = np.column_stack((np.ones_like(b), x))\n",
    "\n",
    "# modelo f = A * x\n",
    "coefs_2 = pinv(A_2) @ b\n",
    "\n",
    "coefs_2\n",
    "\n",
    "\n",
    "# Regressão L2 após outlier\n",
    "res = minimize(L2_cost, coefs_2)\n",
    "L2_cost_outlier_ret = res.x"
   ]
  },
  {
   "cell_type": "code",
   "execution_count": 28,
   "metadata": {},
   "outputs": [
    {
     "data": {
      "image/png": "[encoded data removed]",
      "text/plain": [
       "<Figure size 640x480 with 1 Axes>"
      ]
     },
     "metadata": {},
     "output_type": "display_data"
    }
   ],
   "source": [
    "plt.plot(x, b, 'o', label='Dados')\n",
    "plt.plot(x[-1], b[-1], 'o', label='Outlier')\n",
    "plt.plot(x, f(x), label='f(x)')\n",
    "plt.plot(x, L2_cost_ret[0] + L2_cost_ret[1]*x, '*', label='L2 - sem outlier')\n",
    "plt.plot(x, L2_cost_outlier_ret[0] + L2_cost_outlier_ret[1]*x, '--', label='L2')\n",
    "\n",
    "plt.legend()\n",
    "plt.show()"
   ]
  },
  {
   "attachments": {},
   "cell_type": "markdown",
   "metadata": {},
   "source": [
    "Vimos que o método de regularização L1 tem como objetivo promover esparsidade.\n",
    "\n",
    "**Atenção**: Um detalhe não apresentado em aula é que tipicamente deixamos de fora da regularização L1 o escalar responsável pela translação (intercept), i.e., penalizamos apenas as escolhas das variáveis e não a translação necessária.\n",
    "\n",
    "Em nosso caso, o escalar é a primeira variável da matriz $A$, assim, a retiramos da regularização."
   ]
  },
  {
   "cell_type": "code",
   "execution_count": null,
   "metadata": {},
   "outputs": [],
   "source": [
    "# Retorna a norma L1 do vetor v\n",
    "def L1_norm(v):\n",
    "    return ...\n",
    "\n",
    "# F.O.: L2 no erro e regularização L1 nos coeficientes, excluindo o intercept\n",
    "def L2_regL1_cost(v, λ=5):\n",
    "    return L2_norm(error_vector(v)) + λ*L1_norm(v[1:])\n",
    "\n",
    "# L2 no erro e regularização L1\n",
    "res = minimize(L2_regL1_cost, np.array([0, 0]))\n",
    "L2_regL1_ret = res.x"
   ]
  },
  {
   "cell_type": "code",
   "execution_count": null,
   "metadata": {},
   "outputs": [],
   "source": [
    "plt.plot(x, b, 'o', label='Dados')\n",
    "plt.plot(x[-1], b[-1], 'o', label='Outlier')\n",
    "\n",
    "plt.plot(x, L2_cost_ret[0] + L2_cost_ret[1]*x, '--', label='L2 - sem outlier')\n",
    "plt.plot(x, L2_cost_outlier_ret[0] + L2_cost_outlier_ret[1]*x, '--', label='L2')\n",
    "plt.plot(x, L2_regL1_ret[0] + L2_regL1_ret[1]*x, '--', label='L2 Reg L1 com λ=5')\n",
    "\n",
    "plt.legend()\n",
    "plt.show()"
   ]
  },
  {
   "cell_type": "code",
   "execution_count": null,
   "metadata": {},
   "outputs": [],
   "source": [
    "# F.O.: L1 no erro\n",
    "def L1_cost(v):\n",
    "    return L1_norm(error_vector(v))\n",
    "\n",
    "# L1 no erro\n",
    "res = minimize(L1_cost, np.array([0, 0]))\n",
    "L1_ret = res.x"
   ]
  },
  {
   "cell_type": "code",
   "execution_count": null,
   "metadata": {},
   "outputs": [],
   "source": [
    "# Para ver melhor os resultados, não mostrado o outlier presente nos dados\n",
    "plt.plot(x[:-1], b[:-1], 'o', label='Dados')\n",
    "#plt.plot(x[-1], b[-1], 'o', label='Outlier')\n",
    "\n",
    "plt.plot(x, L2_cost_ret[0] + L2_cost_ret[1]*x, '--', label='L2 - sem outlier')\n",
    "plt.plot(x, L2_cost_outlier_ret[0] + L2_cost_outlier_ret[1]*x, '--', label='L2')\n",
    "plt.plot(x, L2_regL1_ret[0] + L2_regL1_ret[1]*x, '--', label='L2 Reg L1 com λ=5')\n",
    "plt.plot(x, L1_ret[0] + L1_ret[1]*x, '--', label='L1')\n",
    "\n",
    "plt.legend()\n",
    "plt.show()"
   ]
  },
  {
   "cell_type": "code",
   "execution_count": null,
   "metadata": {},
   "outputs": [],
   "source": []
  }
 ],
 "metadata": {
  "kernelspec": {
   "display_name": "py3_11",
   "language": "python",
   "name": "python3"
  },
  "language_info": {
   "codemirror_mode": {
    "name": "ipython",
    "version": 3
   },
   "file_extension": ".py",
   "mimetype": "text/x-python",
   "name": "python",
   "nbconvert_exporter": "python",
   "pygments_lexer": "ipython3",
   "version": "3.11.2"
  }
 },
 "nbformat": 4,
 "nbformat_minor": 2
}
